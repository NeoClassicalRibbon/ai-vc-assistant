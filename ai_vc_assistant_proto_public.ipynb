{
  "nbformat": 4,
  "nbformat_minor": 0,
  "metadata": {
    "colab": {
      "provenance": [],
      "gpuType": "T4",
      "authorship_tag": "ABX9TyOt7Lw2MqQBEI36w6A2drUp",
      "include_colab_link": true
    },
    "kernelspec": {
      "name": "python3",
      "display_name": "Python 3"
    },
    "language_info": {
      "name": "python"
    },
    "accelerator": "GPU"
  },
  "cells": [
    {
      "cell_type": "markdown",
      "metadata": {
        "id": "view-in-github",
        "colab_type": "text"
      },
      "source": [
        "<a href=\"https://colab.research.google.com/github/NeoClassicalRibbon/ai-vc-assistant/blob/main/ai_vc_assistant_proto_public.ipynb\" target=\"_parent\"><img src=\"https://colab.research.google.com/assets/colab-badge.svg\" alt=\"Open In Colab\"/></a>"
      ]
    },
    {
      "cell_type": "markdown",
      "source": [
        "### Install dependencies"
      ],
      "metadata": {
        "id": "WV2kpYsEaG9h"
      }
    },
    {
      "cell_type": "code",
      "source": [
        "!pip install openai\n",
        "!pip install pydub\n",
        "!pip install mutagen\n",
        "!git clone https://github.com/NeoClassicalRibbon/ai-vc-assistant.git"
      ],
      "metadata": {
        "id": "HlGhdZ5w-2MS"
      },
      "execution_count": null,
      "outputs": []
    },
    {
      "cell_type": "markdown",
      "source": [
        "### Install VOICEVOX"
      ],
      "metadata": {
        "id": "Mrq-neJ1Z_uC"
      }
    },
    {
      "cell_type": "code",
      "source": [
        "%%shell\n",
        "RELEASES_VOICEVOX=\"https://github.com/VOICEVOX/voicevox_core/releases/download/0.14.1\"\n",
        "RELEASES_ONNXRUNTIME=\"https://github.com/microsoft/onnxruntime/releases/download/v1.13.1\"\n",
        "\n",
        "nvidia-smi\n",
        "if [ $? -eq 0 ]; then\n",
        "  echo \"GPU Cuda\"\n",
        "  FILE_VOICEVOX=\"voicevox_core-0.14.1+cuda-cp38-abi3-linux_x86_64.whl\"\n",
        "  FILE_ONNXRUNTIME=\"onnxruntime-linux-x64-gpu-1.13.1.tgz\"\n",
        "else\n",
        "  echo \"CPU\"\n",
        "  FILE_VOICEVOX=\"voicevox_core-0.14.1+cpu-cp38-abi3-linux_x86_64.whl\"\n",
        "  FILE_ONNXRUNTIME=\"onnxruntime-linux-x64-1.13.1.tgz\"\n",
        "fi\n",
        "\n",
        "wget -nc $RELEASES_ONNXRUNTIME\"/\"$FILE_ONNXRUNTIME\n",
        "tar zxvf $FILE_ONNXRUNTIME\n",
        "ln -s ${FILE_ONNXRUNTIME:0:-4}\"/lib/libonnxruntime.so.1.13.1\"\n",
        "\n",
        "wget -nc $RELEASES_VOICEVOX\"/\"$FILE_VOICEVOX\n",
        "pip install $FILE_VOICEVOX\n",
        "\n",
        "wget https://jaist.dl.sourceforge.net/project/open-jtalk/Dictionary/open_jtalk_dic-1.11/open_jtalk_dic_utf_8-1.11.tar.gz\n",
        "tar xzvf open_jtalk_dic_utf_8-1.11.tar.gz"
      ],
      "metadata": {
        "id": "FDkp0Z1JVVKP"
      },
      "execution_count": null,
      "outputs": []
    },
    {
      "cell_type": "markdown",
      "source": [
        "### Initial setup\n",
        "\n",
        "Set your OpenAI API key to `openai.api_key`"
      ],
      "metadata": {
        "id": "AdBqHm6gZMyY"
      }
    },
    {
      "cell_type": "code",
      "execution_count": 2,
      "metadata": {
        "id": "8qc1jPkV62Wl"
      },
      "outputs": [],
      "source": [
        "import openai\n",
        "from mutagen.mp3 import MP3\n",
        "from mutagen.wave import WAVE\n",
        "from IPython.display import Audio, display, clear_output\n",
        "import time\n",
        "import sys\n",
        "import os\n",
        "import requests\n",
        "import json\n",
        "\n",
        "os.mkdir(\"/content/output\")\n",
        "\n",
        "### SET YOUR OPENAI API KEY ###\n",
        "openai.api_key = ''"
      ]
    },
    {
      "cell_type": "markdown",
      "source": [
        "### Define character"
      ],
      "metadata": {
        "id": "HvKIpG8TYbZS"
      }
    },
    {
      "cell_type": "code",
      "source": [
        "characters = {\n",
        "  \"ojosama\" : {\n",
        "    \"settings\": \"/content/ai-vc-assistant/settings_ojosama.txt\",\n",
        "    \"speaker\": 0  # 四国メタン（あまあま）\n",
        "  },\n",
        "  \"neko\": {\n",
        "    \"settings\": \"/content/ai-vc-assistant/settings_nekonyan.txt\",\n",
        "    \"speaker\": 43 # 櫻歌ミコ (ノーマル)\n",
        "  }\n",
        "}\n",
        "\n",
        "character_name = \"ojosama\"  # Select Character\n",
        "character = characters[character_name]"
      ],
      "metadata": {
        "id": "f6fA6zqQ-RQz"
      },
      "execution_count": null,
      "outputs": []
    },
    {
      "cell_type": "markdown",
      "source": [
        "### Setup input audio"
      ],
      "metadata": {
        "id": "fmWG33pfYk9x"
      }
    },
    {
      "cell_type": "code",
      "source": [
        "# %%script false --no-raise-error\n",
        "\n",
        "audio_files = [\"/content/ai-vc-assistant/引くこと覚えろカス.wav\",\n",
        "               \"/content/ai-vc-assistant/頑張ってじゃねぇよ。おめえも頑張んだよ！！.wav\",\n",
        "               \"/content/ai-vc-assistant/頑張ってじゃねぇよ。おめえも頑張んだよ！！_original.mp3\"]\n",
        "\n",
        "audio_path = audio_files[2]\n",
        "\n",
        "# Get audio length\n",
        "file_name, file_extension = os.path.splitext(audio_path)\n",
        "if file_extension == \".mp3\":\n",
        "  mp3_info = MP3(audio_path)\n",
        "  audio_length = mp3_info.info.length\n",
        "elif file_extension == \".wav\":\n",
        "  wav_info = WAVE(audio_path)\n",
        "  audio_length = wav_info.info.length\n",
        "else:\n",
        "  sys.exit()\n",
        "\n",
        "# Play input file\n",
        "audio = Audio(audio_path, autoplay=True)\n",
        "display(audio)\n",
        "time.sleep(audio_length + 0.5)"
      ],
      "metadata": {
        "id": "ixsWTzIoPrug"
      },
      "execution_count": null,
      "outputs": []
    },
    {
      "cell_type": "markdown",
      "source": [
        "### Call Whisper API and execute transcription"
      ],
      "metadata": {
        "id": "AmqOXqozYvxh"
      }
    },
    {
      "cell_type": "code",
      "source": [
        "# %%script false --no-raise-error\n",
        "\n",
        "with open(audio_path, \"rb\") as audio_file:\n",
        "  transcript = openai.Audio.transcribe(\"whisper-1\", audio_file)\n",
        "transcript_text = transcript[\"text\"] \n",
        "print(\"Transcript: \" + transcript_text)"
      ],
      "metadata": {
        "id": "JdHR7LYi-HaQ"
      },
      "execution_count": null,
      "outputs": []
    },
    {
      "cell_type": "markdown",
      "source": [
        "### Read character settings prompt"
      ],
      "metadata": {
        "id": "powBMWirY2fR"
      }
    },
    {
      "cell_type": "code",
      "source": [
        "# %%script false --no-raise-error\n",
        "\n",
        "settings_file_path = character[\"settings\"]\n",
        "\n",
        "with open(settings_file_path) as f:\n",
        "    settings = f.read()\n",
        "print(settings)"
      ],
      "metadata": {
        "id": "slZy6SCyHDJP"
      },
      "execution_count": null,
      "outputs": []
    },
    {
      "cell_type": "markdown",
      "source": [
        "### Send character settings and transcript to ChatGPT and get a response"
      ],
      "metadata": {
        "id": "3UtHOHcwY6CJ"
      }
    },
    {
      "cell_type": "code",
      "source": [
        "# %%script false --no-raise-error\n",
        "\n",
        "# Set character settings prompt\n",
        "messages = [{'role': 'system', 'content': settings}]\n",
        "# Set transcript\n",
        "transcript_text=\"「\" + transcript_text + \"」\"\n",
        "messages.append({'role': 'user', 'content': transcript_text})\n",
        "\n",
        "# Send to ChatGPT\n",
        "result = openai.ChatCompletion.create(\n",
        "        model='gpt-3.5-turbo',\n",
        "        messages=messages\n",
        ")\n",
        "response_text = result['choices'][0]['message']['content']\n",
        "\n",
        "print(\"ChatGPT: \" + response_text)"
      ],
      "metadata": {
        "id": "8jI3atp2Ioj0"
      },
      "execution_count": null,
      "outputs": []
    },
    {
      "cell_type": "markdown",
      "source": [
        "### Generate TTS by VOICEVOX"
      ],
      "metadata": {
        "id": "xd_iML0MY91Q"
      }
    },
    {
      "cell_type": "code",
      "source": [
        "# %%script false --no-raise-error\n",
        "\n",
        "from pathlib import Path\n",
        "from voicevox_core import VoicevoxCore, METAS\n",
        "core = VoicevoxCore(open_jtalk_dict_dir=Path(\"open_jtalk_dic_utf_8-1.11\"))\n",
        "from pprint import pprint\n",
        "# pprint(METAS) # print characters params\n",
        "\n",
        "speaker = character[\"speaker\"]\n",
        "wav_file_name = \"/content/output/response-\" + character_name + \".wav\"\n",
        "\n",
        "# Generate audio\n",
        "if not core.is_model_loaded(speaker):\n",
        "    core.load_model(speaker)\n",
        "wave_bytes = core.tts(response_text, speaker)\n",
        "with open(wav_file_name, \"wb\") as f:\n",
        "    f.write(wave_bytes)\n",
        "\n",
        "# Play response file\n",
        "audio = Audio(wav_file_name, autoplay=True)\n",
        "display(audio)\n"
      ],
      "metadata": {
        "id": "Koxexjm-Of1W"
      },
      "execution_count": null,
      "outputs": []
    }
  ]
}